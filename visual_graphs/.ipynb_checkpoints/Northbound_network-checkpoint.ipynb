{
 "cells": [
  {
   "cell_type": "code",
   "execution_count": null,
   "id": "ce131867",
   "metadata": {},
   "outputs": [],
   "source": [
    "import itertools\n",
    "import copy\n",
    "import networkx as nx\n",
    "import pandas as pd\n",
    "import matplotlib.pyplot as plt\n",
    "import imageio"
   ]
  },
  {
   "cell_type": "code",
   "execution_count": null,
   "id": "22d62418",
   "metadata": {},
   "outputs": [],
   "source": [
    "excel_file = '0 UE Results Northbound.xlsx'\n",
    "\n",
    "edgelist = pd.read_excel(excel_file)\n",
    "\n",
    "# Preview edgelist\n",
    "edgelist.head(5)"
   ]
  },
  {
   "cell_type": "code",
   "execution_count": null,
   "id": "301a51b9",
   "metadata": {},
   "outputs": [],
   "source": [
    "excel_file = 'Northbound_nodes.xlsx'\n",
    "nodelist = pd.read_excel(excel_file)\n",
    "\n",
    "# Preview nodelist\n",
    "nodelist.head(5)"
   ]
  },
  {
   "cell_type": "code",
   "execution_count": null,
   "id": "5eefe572",
   "metadata": {},
   "outputs": [],
   "source": [
    "g = nx.DiGraph(directed=True)\n",
    "l=[]\n",
    "\n",
    "\n",
    "for i, elrow in edgelist.iterrows():\n",
    "\n",
    "    l.append(elrow[2:].to_dict())\n",
    "    g.add_edge(elrow[0], elrow[1], color = elrow['Color'], estimate = elrow['V/C']) \n",
    "\n",
    "for i, nlrow in nodelist.iterrows():\n",
    "    g.nodes[nlrow['id']].update( nlrow[1:].to_dict() )\n",
    "   \n",
    "    \n",
    "print('Number of links: {}'.format(g.number_of_edges()))\n",
    "print('Number of nodes: {}'.format(g.number_of_nodes()))"
   ]
  },
  {
   "cell_type": "code",
   "execution_count": null,
   "id": "2ad11733",
   "metadata": {},
   "outputs": [],
   "source": [
    "node_positions = {node[0]: (node[1]['X'], -1*node[1]['Y']) for node in g.nodes(data=True)}\n",
    "\n",
    "colors = [e[2]['estimate'] for e in g.edges(data=True)]\n",
    "\n",
    "plt.figure(figsize=(15, 12))\n",
    "\n",
    "\n",
    "edge_colors = [e[2]['color'] for e in g.edges(data=True)]\n",
    "nx.draw(g, pos=node_positions, with_labels=True, edge_color=edge_colors, node_size=1000, node_color='skyblue',width=5)\n",
    "\n",
    "\n",
    "#nx.draw(g, pos=node_positions, with_labels=True,  style='solid', edge_color=colors, edge_cmap=plt.cm.Reds,\n",
    "#        arrowstyle='->', node_color='skyblue', node_size=1000, width=5)\n",
    "\n",
    "\n",
    "plt.title('(i)', size=25)\n",
    "plt.savefig('graph_sobe.jpg', bbox_inches='tight', dpi=600) \n",
    "\n",
    "plt.show()"
   ]
  },
  {
   "cell_type": "code",
   "execution_count": null,
   "id": "97287282",
   "metadata": {},
   "outputs": [],
   "source": []
  }
 ],
 "metadata": {
  "kernelspec": {
   "display_name": "Python 3 (ipykernel)",
   "language": "python",
   "name": "python3"
  },
  "language_info": {
   "codemirror_mode": {
    "name": "ipython",
    "version": 3
   },
   "file_extension": ".py",
   "mimetype": "text/x-python",
   "name": "python",
   "nbconvert_exporter": "python",
   "pygments_lexer": "ipython3",
   "version": "3.9.12"
  }
 },
 "nbformat": 4,
 "nbformat_minor": 5
}
